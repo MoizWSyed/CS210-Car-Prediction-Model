{
  "nbformat": 4,
  "nbformat_minor": 0,
  "metadata": {
    "colab": {
      "provenance": []
    },
    "kernelspec": {
      "name": "python3",
      "display_name": "Python 3"
    },
    "language_info": {
      "name": "python"
    },
    "widgets": {
      "application/vnd.jupyter.widget-state+json": {
        "2db7766a96e54af683c2343acd135e1d": {
          "model_module": "@jupyter-widgets/controls",
          "model_name": "FloatTextModel",
          "model_module_version": "1.5.0",
          "state": {
            "_dom_classes": [],
            "_model_module": "@jupyter-widgets/controls",
            "_model_module_version": "1.5.0",
            "_model_name": "FloatTextModel",
            "_view_count": null,
            "_view_module": "@jupyter-widgets/controls",
            "_view_module_version": "1.5.0",
            "_view_name": "FloatTextView",
            "continuous_update": false,
            "description": "Age:",
            "description_tooltip": null,
            "disabled": false,
            "layout": "IPY_MODEL_50651ad11c944d80b0fe13e401cf3c7d",
            "step": null,
            "style": "IPY_MODEL_dd2cde2a244a47328d0c57eca961871f",
            "value": 0
          }
        },
        "50651ad11c944d80b0fe13e401cf3c7d": {
          "model_module": "@jupyter-widgets/base",
          "model_name": "LayoutModel",
          "model_module_version": "1.2.0",
          "state": {
            "_model_module": "@jupyter-widgets/base",
            "_model_module_version": "1.2.0",
            "_model_name": "LayoutModel",
            "_view_count": null,
            "_view_module": "@jupyter-widgets/base",
            "_view_module_version": "1.2.0",
            "_view_name": "LayoutView",
            "align_content": null,
            "align_items": null,
            "align_self": null,
            "border": null,
            "bottom": null,
            "display": null,
            "flex": null,
            "flex_flow": null,
            "grid_area": null,
            "grid_auto_columns": null,
            "grid_auto_flow": null,
            "grid_auto_rows": null,
            "grid_column": null,
            "grid_gap": null,
            "grid_row": null,
            "grid_template_areas": null,
            "grid_template_columns": null,
            "grid_template_rows": null,
            "height": null,
            "justify_content": null,
            "justify_items": null,
            "left": null,
            "margin": null,
            "max_height": null,
            "max_width": null,
            "min_height": null,
            "min_width": null,
            "object_fit": null,
            "object_position": null,
            "order": null,
            "overflow": null,
            "overflow_x": null,
            "overflow_y": null,
            "padding": null,
            "right": null,
            "top": null,
            "visibility": null,
            "width": "500px"
          }
        },
        "dd2cde2a244a47328d0c57eca961871f": {
          "model_module": "@jupyter-widgets/controls",
          "model_name": "DescriptionStyleModel",
          "model_module_version": "1.5.0",
          "state": {
            "_model_module": "@jupyter-widgets/controls",
            "_model_module_version": "1.5.0",
            "_model_name": "DescriptionStyleModel",
            "_view_count": null,
            "_view_module": "@jupyter-widgets/base",
            "_view_module_version": "1.2.0",
            "_view_name": "StyleView",
            "description_width": ""
          }
        },
        "bcd0f20b74724d70abd45d13628fbb45": {
          "model_module": "@jupyter-widgets/controls",
          "model_name": "FloatTextModel",
          "model_module_version": "1.5.0",
          "state": {
            "_dom_classes": [],
            "_model_module": "@jupyter-widgets/controls",
            "_model_module_version": "1.5.0",
            "_model_name": "FloatTextModel",
            "_view_count": null,
            "_view_module": "@jupyter-widgets/controls",
            "_view_module_version": "1.5.0",
            "_view_name": "FloatTextView",
            "continuous_update": false,
            "description": "Salary:",
            "description_tooltip": null,
            "disabled": false,
            "layout": "IPY_MODEL_50651ad11c944d80b0fe13e401cf3c7d",
            "step": null,
            "style": "IPY_MODEL_dde8b7631dc24651ba8d5e6fa45a6511",
            "value": 0
          }
        },
        "dde8b7631dc24651ba8d5e6fa45a6511": {
          "model_module": "@jupyter-widgets/controls",
          "model_name": "DescriptionStyleModel",
          "model_module_version": "1.5.0",
          "state": {
            "_model_module": "@jupyter-widgets/controls",
            "_model_module_version": "1.5.0",
            "_model_name": "DescriptionStyleModel",
            "_view_count": null,
            "_view_module": "@jupyter-widgets/base",
            "_view_module_version": "1.2.0",
            "_view_name": "StyleView",
            "description_width": ""
          }
        },
        "98c42e46c94547af968d0beb75f263d2": {
          "model_module": "@jupyter-widgets/controls",
          "model_name": "FloatTextModel",
          "model_module_version": "1.5.0",
          "state": {
            "_dom_classes": [],
            "_model_module": "@jupyter-widgets/controls",
            "_model_module_version": "1.5.0",
            "_model_name": "FloatTextModel",
            "_view_count": null,
            "_view_module": "@jupyter-widgets/controls",
            "_view_module_version": "1.5.0",
            "_view_name": "FloatTextView",
            "continuous_update": false,
            "description": "Net Worth:",
            "description_tooltip": null,
            "disabled": false,
            "layout": "IPY_MODEL_50651ad11c944d80b0fe13e401cf3c7d",
            "step": null,
            "style": "IPY_MODEL_e121c8b4c6d544e7b0ad59a99057cf02",
            "value": 0
          }
        },
        "e121c8b4c6d544e7b0ad59a99057cf02": {
          "model_module": "@jupyter-widgets/controls",
          "model_name": "DescriptionStyleModel",
          "model_module_version": "1.5.0",
          "state": {
            "_model_module": "@jupyter-widgets/controls",
            "_model_module_version": "1.5.0",
            "_model_name": "DescriptionStyleModel",
            "_view_count": null,
            "_view_module": "@jupyter-widgets/base",
            "_view_module_version": "1.2.0",
            "_view_name": "StyleView",
            "description_width": ""
          }
        },
        "8040c53b1bb7487082948245ab02ff6b": {
          "model_module": "@jupyter-widgets/controls",
          "model_name": "DropdownModel",
          "model_module_version": "1.5.0",
          "state": {
            "_dom_classes": [],
            "_model_module": "@jupyter-widgets/controls",
            "_model_module_version": "1.5.0",
            "_model_name": "DropdownModel",
            "_options_labels": [
              "SUV",
              "Sedan",
              "Coupe",
              "Pickup",
              "Convertible"
            ],
            "_view_count": null,
            "_view_module": "@jupyter-widgets/controls",
            "_view_module_version": "1.5.0",
            "_view_name": "DropdownView",
            "description": "Type:",
            "description_tooltip": null,
            "disabled": false,
            "index": 0,
            "layout": "IPY_MODEL_50651ad11c944d80b0fe13e401cf3c7d",
            "style": "IPY_MODEL_02be6086ada046d8893e4f33a84006b4"
          }
        },
        "02be6086ada046d8893e4f33a84006b4": {
          "model_module": "@jupyter-widgets/controls",
          "model_name": "DescriptionStyleModel",
          "model_module_version": "1.5.0",
          "state": {
            "_model_module": "@jupyter-widgets/controls",
            "_model_module_version": "1.5.0",
            "_model_name": "DescriptionStyleModel",
            "_view_count": null,
            "_view_module": "@jupyter-widgets/base",
            "_view_module_version": "1.2.0",
            "_view_name": "StyleView",
            "description_width": ""
          }
        },
        "5365fe6512c24939b799f6516f1f81d8": {
          "model_module": "@jupyter-widgets/controls",
          "model_name": "FloatTextModel",
          "model_module_version": "1.5.0",
          "state": {
            "_dom_classes": [],
            "_model_module": "@jupyter-widgets/controls",
            "_model_module_version": "1.5.0",
            "_model_name": "FloatTextModel",
            "_view_count": null,
            "_view_module": "@jupyter-widgets/controls",
            "_view_module_version": "1.5.0",
            "_view_name": "FloatTextView",
            "continuous_update": false,
            "description": "Min MPG:",
            "description_tooltip": null,
            "disabled": false,
            "layout": "IPY_MODEL_50651ad11c944d80b0fe13e401cf3c7d",
            "step": null,
            "style": "IPY_MODEL_6e5ccb13fc4f41ecbbbe2d86a9261597",
            "value": 0
          }
        },
        "6e5ccb13fc4f41ecbbbe2d86a9261597": {
          "model_module": "@jupyter-widgets/controls",
          "model_name": "DescriptionStyleModel",
          "model_module_version": "1.5.0",
          "state": {
            "_model_module": "@jupyter-widgets/controls",
            "_model_module_version": "1.5.0",
            "_model_name": "DescriptionStyleModel",
            "_view_count": null,
            "_view_module": "@jupyter-widgets/base",
            "_view_module_version": "1.2.0",
            "_view_name": "StyleView",
            "description_width": ""
          }
        },
        "95e7ec9c9c9f425b8b60ac808d6794da": {
          "model_module": "@jupyter-widgets/controls",
          "model_name": "ButtonModel",
          "model_module_version": "1.5.0",
          "state": {
            "_dom_classes": [],
            "_model_module": "@jupyter-widgets/controls",
            "_model_module_version": "1.5.0",
            "_model_name": "ButtonModel",
            "_view_count": null,
            "_view_module": "@jupyter-widgets/controls",
            "_view_module_version": "1.5.0",
            "_view_name": "ButtonView",
            "button_style": "",
            "description": "Find Cars",
            "disabled": false,
            "icon": "",
            "layout": "IPY_MODEL_1b81ca4054d1464fb521b32b4dc59155",
            "style": "IPY_MODEL_f305e5f1364f447ab5d484ba7ab38c43",
            "tooltip": ""
          }
        },
        "1b81ca4054d1464fb521b32b4dc59155": {
          "model_module": "@jupyter-widgets/base",
          "model_name": "LayoutModel",
          "model_module_version": "1.2.0",
          "state": {
            "_model_module": "@jupyter-widgets/base",
            "_model_module_version": "1.2.0",
            "_model_name": "LayoutModel",
            "_view_count": null,
            "_view_module": "@jupyter-widgets/base",
            "_view_module_version": "1.2.0",
            "_view_name": "LayoutView",
            "align_content": null,
            "align_items": null,
            "align_self": null,
            "border": null,
            "bottom": null,
            "display": null,
            "flex": null,
            "flex_flow": null,
            "grid_area": null,
            "grid_auto_columns": null,
            "grid_auto_flow": null,
            "grid_auto_rows": null,
            "grid_column": null,
            "grid_gap": null,
            "grid_row": null,
            "grid_template_areas": null,
            "grid_template_columns": null,
            "grid_template_rows": null,
            "height": null,
            "justify_content": null,
            "justify_items": null,
            "left": null,
            "margin": null,
            "max_height": null,
            "max_width": null,
            "min_height": null,
            "min_width": null,
            "object_fit": null,
            "object_position": null,
            "order": null,
            "overflow": null,
            "overflow_x": null,
            "overflow_y": null,
            "padding": null,
            "right": null,
            "top": null,
            "visibility": null,
            "width": null
          }
        },
        "f305e5f1364f447ab5d484ba7ab38c43": {
          "model_module": "@jupyter-widgets/controls",
          "model_name": "ButtonStyleModel",
          "model_module_version": "1.5.0",
          "state": {
            "_model_module": "@jupyter-widgets/controls",
            "_model_module_version": "1.5.0",
            "_model_name": "ButtonStyleModel",
            "_view_count": null,
            "_view_module": "@jupyter-widgets/base",
            "_view_module_version": "1.2.0",
            "_view_name": "StyleView",
            "button_color": null,
            "font_weight": ""
          }
        },
        "d5e9c0149e7d47c4a51bbdc18d4b058f": {
          "model_module": "@jupyter-widgets/output",
          "model_name": "OutputModel",
          "model_module_version": "1.0.0",
          "state": {
            "_dom_classes": [],
            "_model_module": "@jupyter-widgets/output",
            "_model_module_version": "1.0.0",
            "_model_name": "OutputModel",
            "_view_count": null,
            "_view_module": "@jupyter-widgets/output",
            "_view_module_version": "1.0.0",
            "_view_name": "OutputView",
            "layout": "IPY_MODEL_8c186ff3649b4cc8896b7e8e337a0a25",
            "msg_id": "",
            "outputs": []
          }
        },
        "8c186ff3649b4cc8896b7e8e337a0a25": {
          "model_module": "@jupyter-widgets/base",
          "model_name": "LayoutModel",
          "model_module_version": "1.2.0",
          "state": {
            "_model_module": "@jupyter-widgets/base",
            "_model_module_version": "1.2.0",
            "_model_name": "LayoutModel",
            "_view_count": null,
            "_view_module": "@jupyter-widgets/base",
            "_view_module_version": "1.2.0",
            "_view_name": "LayoutView",
            "align_content": null,
            "align_items": null,
            "align_self": null,
            "border": null,
            "bottom": null,
            "display": null,
            "flex": null,
            "flex_flow": null,
            "grid_area": null,
            "grid_auto_columns": null,
            "grid_auto_flow": null,
            "grid_auto_rows": null,
            "grid_column": null,
            "grid_gap": null,
            "grid_row": null,
            "grid_template_areas": null,
            "grid_template_columns": null,
            "grid_template_rows": null,
            "height": null,
            "justify_content": null,
            "justify_items": null,
            "left": null,
            "margin": null,
            "max_height": null,
            "max_width": null,
            "min_height": null,
            "min_width": null,
            "object_fit": null,
            "object_position": null,
            "order": null,
            "overflow": null,
            "overflow_x": null,
            "overflow_y": null,
            "padding": null,
            "right": null,
            "top": null,
            "visibility": null,
            "width": null
          }
        }
      }
    }
  },
  "cells": [
    {
      "cell_type": "code",
      "execution_count": 6,
      "metadata": {
        "colab": {
          "base_uri": "https://localhost:8080/",
          "height": 1000,
          "referenced_widgets": [
            "2db7766a96e54af683c2343acd135e1d",
            "50651ad11c944d80b0fe13e401cf3c7d",
            "dd2cde2a244a47328d0c57eca961871f",
            "bcd0f20b74724d70abd45d13628fbb45",
            "dde8b7631dc24651ba8d5e6fa45a6511",
            "98c42e46c94547af968d0beb75f263d2",
            "e121c8b4c6d544e7b0ad59a99057cf02",
            "8040c53b1bb7487082948245ab02ff6b",
            "02be6086ada046d8893e4f33a84006b4",
            "5365fe6512c24939b799f6516f1f81d8",
            "6e5ccb13fc4f41ecbbbe2d86a9261597",
            "95e7ec9c9c9f425b8b60ac808d6794da",
            "1b81ca4054d1464fb521b32b4dc59155",
            "f305e5f1364f447ab5d484ba7ab38c43",
            "d5e9c0149e7d47c4a51bbdc18d4b058f",
            "8c186ff3649b4cc8896b7e8e337a0a25"
          ]
        },
        "id": "1HRthlECq0AQ",
        "outputId": "c6733b8f-84a5-462c-c0b7-7c891de59380"
      },
      "outputs": [
        {
          "output_type": "display_data",
          "data": {
            "text/plain": [
              "<Figure size 600x400 with 1 Axes>"
            ],
            "image/png": "[encoded data removed]"
          },
          "metadata": {}
        },
        {
          "output_type": "display_data",
          "data": {
            "text/plain": [
              "<Figure size 600x400 with 1 Axes>"
            ],
            "image/png": "[encoded data removed]"
          },
          "metadata": {}
        },
        {
          "output_type": "display_data",
          "data": {
            "text/plain": [
              "<Figure size 600x400 with 1 Axes>"
            ],
            "image/png": "[encoded data removed]"
          },
          "metadata": {}
        },
        {
          "output_type": "display_data",
          "data": {
            "text/plain": [
              "<IPython.core.display.Markdown object>"
            ],
            "text/markdown": "## Car Finder Tool – Fill out your details"
          },
          "metadata": {}
        },
        {
          "output_type": "display_data",
          "data": {
            "text/plain": [
              "FloatText(value=0.0, description='Age:', layout=Layout(width='500px'))"
            ],
            "application/vnd.jupyter.widget-view+json": {
              "version_major": 2,
              "version_minor": 0,
              "model_id": "2db7766a96e54af683c2343acd135e1d"
            }
          },
          "metadata": {}
        },
        {
          "output_type": "display_data",
          "data": {
            "text/plain": [
              "FloatText(value=0.0, description='Salary:', layout=Layout(width='500px'))"
            ],
            "application/vnd.jupyter.widget-view+json": {
              "version_major": 2,
              "version_minor": 0,
              "model_id": "bcd0f20b74724d70abd45d13628fbb45"
            }
          },
          "metadata": {}
        },
        {
          "output_type": "display_data",
          "data": {
            "text/plain": [
              "FloatText(value=0.0, description='Net Worth:', layout=Layout(width='500px'))"
            ],
            "application/vnd.jupyter.widget-view+json": {
              "version_major": 2,
              "version_minor": 0,
              "model_id": "98c42e46c94547af968d0beb75f263d2"
            }
          },
          "metadata": {}
        },
        {
          "output_type": "display_data",
          "data": {
            "text/plain": [
              "Dropdown(description='Type:', layout=Layout(width='500px'), options=('SUV', 'Sedan', 'Coupe', 'Pickup', 'Conve…"
            ],
            "application/vnd.jupyter.widget-view+json": {
              "version_major": 2,
              "version_minor": 0,
              "model_id": "8040c53b1bb7487082948245ab02ff6b"
            }
          },
          "metadata": {}
        },
        {
          "output_type": "display_data",
          "data": {
            "text/plain": [
              "FloatText(value=0.0, description='Min MPG:', layout=Layout(width='500px'))"
            ],
            "application/vnd.jupyter.widget-view+json": {
              "version_major": 2,
              "version_minor": 0,
              "model_id": "5365fe6512c24939b799f6516f1f81d8"
            }
          },
          "metadata": {}
        },
        {
          "output_type": "display_data",
          "data": {
            "text/plain": [
              "Button(description='Find Cars', style=ButtonStyle())"
            ],
            "application/vnd.jupyter.widget-view+json": {
              "version_major": 2,
              "version_minor": 0,
              "model_id": "95e7ec9c9c9f425b8b60ac808d6794da"
            }
          },
          "metadata": {}
        },
        {
          "output_type": "display_data",
          "data": {
            "text/plain": [
              "Output()"
            ],
            "application/vnd.jupyter.widget-view+json": {
              "version_major": 2,
              "version_minor": 0,
              "model_id": "d5e9c0149e7d47c4a51bbdc18d4b058f"
            }
          },
          "metadata": {}
        }
      ],
      "source": [
        "!pip install -q pandas scikit-learn matplotlib seaborn ipywidgets\n",
        "\n",
        "import pandas as pd\n",
        "import matplotlib.pyplot as plt\n",
        "import seaborn as sns\n",
        "import os\n",
        "from sklearn.linear_model import LinearRegression\n",
        "from google.colab import files\n",
        "import ipywidgets as widgets\n",
        "from IPython.display import display, Markdown\n",
        "\n",
        "# Upload datasets manually if they don't exist\n",
        "if not os.path.isfile(\"car_purchasing[1].csv\"):\n",
        "    print(\"Upload the 'car_purchasing[1].csv' file...\")\n",
        "    files.upload()\n",
        "\n",
        "if not os.path.isfile(\"extended_data[1].csv\"):\n",
        "    print(\"Upload the 'extended_data[1].csv' file...\")\n",
        "    files.upload()\n",
        "\n",
        "# Load car dataset and clean it up\n",
        "try:\n",
        "    car_data = pd.read_csv(\"extended_data[1].csv\").drop_duplicates()\n",
        "except Exception as e:\n",
        "    print(\"Trouble loading car data:\", e)\n",
        "    car_data = pd.DataFrame()\n",
        "\n",
        "# Display graphs after cleaning but before widgets\n",
        "try:\n",
        "    purchase_data = pd.read_csv(\"car_purchasing[1].csv\", encoding=\"ISO-8859-1\")\n",
        "\n",
        "    # Map gender values\n",
        "    purchase_data[\"gender\"] = purchase_data[\"gender\"].map({0: \"Female\", 1: \"Male\"})\n",
        "\n",
        "    # 1. Scatter plot - Age vs. Car Purchase Amount\n",
        "    plt.figure(figsize=(6,4))\n",
        "    sns.scatterplot(x=\"age\", y=\"car purchase amount\", data=purchase_data)\n",
        "    plt.title(\"Age vs. Car Purchase Amount\")\n",
        "    plt.xlabel(\"Age\")\n",
        "    plt.ylabel(\"Car Purchase Amount\")\n",
        "    plt.show()\n",
        "\n",
        "    # 2. Bar graph - Gender vs. Net Worth\n",
        "    plt.figure(figsize=(6,4))\n",
        "    sns.barplot(x=\"gender\", y=\"net worth\", data=purchase_data, estimator=\"mean\")\n",
        "    plt.title(\"Average Net Worth by Gender\")\n",
        "    plt.xlabel(\"Gender\")\n",
        "    plt.ylabel(\"Average Net Worth\")\n",
        "    plt.show()\n",
        "\n",
        "    # 3. Bar graph - Age Ranges vs. Net Worth\n",
        "    age_bins = [18, 25, 35, 45, 55, 65, 80]\n",
        "    purchase_data[\"age_range\"] = pd.cut(purchase_data[\"age\"], bins=age_bins)\n",
        "    age_networth = purchase_data.groupby(\"age_range\", observed=False)[\"net worth\"].mean().reset_index()\n",
        "\n",
        "    plt.figure(figsize=(6,4))\n",
        "    sns.barplot(x=\"age_range\", y=\"net worth\", data=age_networth)\n",
        "    plt.title(\"Average Net Worth by Age Range\")\n",
        "    plt.xlabel(\"Age Range\")\n",
        "    plt.ylabel(\"Average Net Worth\")\n",
        "    plt.xticks(rotation=30)\n",
        "    plt.show()\n",
        "\n",
        "except Exception as e:\n",
        "    print(\"Error generating graphs:\", e)\n",
        "\n",
        "# Quick sanity check – these are the categories we're filtering by\n",
        "car_types = [\"SUV\", \"Sedan\", \"Coupe\", \"Pickup\", \"Convertible\"]\n",
        "\n",
        "# Simple model using basic financial data to predict car budget\n",
        "def train_model():\n",
        "    df = pd.read_csv(\"car_purchasing[1].csv\", encoding=\"ISO-8859-1\")\n",
        "    features = [\"age\", \"annual Salary\", \"net worth\"]\n",
        "    X = df[features]\n",
        "    y = df[\"car purchase amount\"]\n",
        "\n",
        "    model = LinearRegression()\n",
        "    model.fit(X, y)\n",
        "    return model\n",
        "\n",
        "# Just making sure our car data has what we expect\n",
        "def check_columns(df):\n",
        "    needed = {\"msrp\", \"type\", \"miles_per_gallon\", \"model\"}\n",
        "    if not needed.issubset(df.columns):\n",
        "        raise Exception(f\"Missing columns: {needed - set(df.columns)}\")\n",
        "    return df\n",
        "\n",
        "# Recommend cars within ±$1000 of budget, matching type and mpg\n",
        "def recommend_cars(model, df, age, salary, net_worth, car_type, mpg):\n",
        "    input_df = pd.DataFrame([[age, salary, net_worth]], columns=[\"age\", \"annual Salary\", \"net worth\"])\n",
        "    prediction = model.predict(input_df)[0]\n",
        "    budget_range = (prediction - 1000, prediction + 1000)\n",
        "\n",
        "    filtered = df[\n",
        "        (df[\"msrp\"].between(*budget_range)) &\n",
        "        (df[\"type\"].str.lower() == car_type.lower()) &\n",
        "        (df[\"miles_per_gallon\"] >= mpg)\n",
        "    ]\n",
        "\n",
        "    print(f\"\\nYour estimated car budget is around: ${prediction:,.2f}\")\n",
        "    if filtered.empty:\n",
        "        print(\"Sorry, no matching cars found with your criteria.\")\n",
        "    else:\n",
        "        display(filtered[[\"model\", \"msrp\", \"type\", \"miles_per_gallon\"]])\n",
        "\n",
        "# Set up the form\n",
        "layout = widgets.Layout(width='500px')\n",
        "age = widgets.FloatText(description=\"Age:\", layout=layout)\n",
        "salary = widgets.FloatText(description=\"Salary:\", layout=layout)\n",
        "net = widgets.FloatText(description=\"Net Worth:\", layout=layout)\n",
        "car_type = widgets.Dropdown(options=car_types, description=\"Type:\", layout=layout)\n",
        "min_mpg = widgets.FloatText(description=\"Min MPG:\", layout=layout)\n",
        "submit_btn = widgets.Button(description=\"Find Cars\")\n",
        "results_output = widgets.Output()\n",
        "\n",
        "display(Markdown(\"## Car Finder Tool – Fill out your details\"))\n",
        "display(age, salary, net, car_type, min_mpg, submit_btn, results_output)\n",
        "\n",
        "# Handle button click\n",
        "def on_submit(_):\n",
        "    with results_output:\n",
        "        results_output.clear_output()\n",
        "        try:\n",
        "            model = train_model()\n",
        "            valid_data = check_columns(car_data.copy())\n",
        "            recommend_cars(\n",
        "                model, valid_data,\n",
        "                age.value, salary.value, net.value,\n",
        "                car_type.value, min_mpg.value\n",
        "            )\n",
        "        except Exception as err:\n",
        "            print(\"Something went wrong:\", err)\n",
        "\n",
        "submit_btn.on_click(on_submit)\n"
      ]
    }
  ]
}