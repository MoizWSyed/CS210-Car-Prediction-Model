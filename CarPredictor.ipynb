{
  "nbformat": 4,
  "nbformat_minor": 0,
  "metadata": {
    "colab": {
      "provenance": []
    },
    "kernelspec": {
      "name": "python3",
      "display_name": "Python 3"
    },
    "language_info": {
      "name": "python"
    },
    "widgets": {
      "application/vnd.jupyter.widget-state+json": {
        "4a8767372360489a98ed5f44756d7e20": {
          "model_module": "@jupyter-widgets/controls",
          "model_name": "FloatTextModel",
          "model_module_version": "1.5.0",
          "state": {
            "_dom_classes": [],
            "_model_module": "@jupyter-widgets/controls",
            "_model_module_version": "1.5.0",
            "_model_name": "FloatTextModel",
            "_view_count": null,
            "_view_module": "@jupyter-widgets/controls",
            "_view_module_version": "1.5.0",
            "_view_name": "FloatTextView",
            "continuous_update": false,
            "description": "Age:",
            "description_tooltip": null,
            "disabled": false,
            "layout": "IPY_MODEL_d6cf6cbd35024ee5bf82604aac2f3acb",
            "step": null,
            "style": "IPY_MODEL_7f1bb0dedfa24100a8f2310a421021f0",
            "value": 0
          }
        },
        "d6cf6cbd35024ee5bf82604aac2f3acb": {
          "model_module": "@jupyter-widgets/base",
          "model_name": "LayoutModel",
          "model_module_version": "1.2.0",
          "state": {
            "_model_module": "@jupyter-widgets/base",
            "_model_module_version": "1.2.0",
            "_model_name": "LayoutModel",
            "_view_count": null,
            "_view_module": "@jupyter-widgets/base",
            "_view_module_version": "1.2.0",
            "_view_name": "LayoutView",
            "align_content": null,
            "align_items": null,
            "align_self": null,
            "border": null,
            "bottom": null,
            "display": null,
            "flex": null,
            "flex_flow": null,
            "grid_area": null,
            "grid_auto_columns": null,
            "grid_auto_flow": null,
            "grid_auto_rows": null,
            "grid_column": null,
            "grid_gap": null,
            "grid_row": null,
            "grid_template_areas": null,
            "grid_template_columns": null,
            "grid_template_rows": null,
            "height": null,
            "justify_content": null,
            "justify_items": null,
            "left": null,
            "margin": null,
            "max_height": null,
            "max_width": null,
            "min_height": null,
            "min_width": null,
            "object_fit": null,
            "object_position": null,
            "order": null,
            "overflow": null,
            "overflow_x": null,
            "overflow_y": null,
            "padding": null,
            "right": null,
            "top": null,
            "visibility": null,
            "width": "500px"
          }
        },
        "7f1bb0dedfa24100a8f2310a421021f0": {
          "model_module": "@jupyter-widgets/controls",
          "model_name": "DescriptionStyleModel",
          "model_module_version": "1.5.0",
          "state": {
            "_model_module": "@jupyter-widgets/controls",
            "_model_module_version": "1.5.0",
            "_model_name": "DescriptionStyleModel",
            "_view_count": null,
            "_view_module": "@jupyter-widgets/base",
            "_view_module_version": "1.2.0",
            "_view_name": "StyleView",
            "description_width": ""
          }
        },
        "6ccb179b4fcc4629a938c05f5b8e1ea9": {
          "model_module": "@jupyter-widgets/controls",
          "model_name": "FloatTextModel",
          "model_module_version": "1.5.0",
          "state": {
            "_dom_classes": [],
            "_model_module": "@jupyter-widgets/controls",
            "_model_module_version": "1.5.0",
            "_model_name": "FloatTextModel",
            "_view_count": null,
            "_view_module": "@jupyter-widgets/controls",
            "_view_module_version": "1.5.0",
            "_view_name": "FloatTextView",
            "continuous_update": false,
            "description": "Salary:",
            "description_tooltip": null,
            "disabled": false,
            "layout": "IPY_MODEL_d6cf6cbd35024ee5bf82604aac2f3acb",
            "step": null,
            "style": "IPY_MODEL_6f55173f739e4361992e33e53b2b8cb9",
            "value": 0
          }
        },
        "6f55173f739e4361992e33e53b2b8cb9": {
          "model_module": "@jupyter-widgets/controls",
          "model_name": "DescriptionStyleModel",
          "model_module_version": "1.5.0",
          "state": {
            "_model_module": "@jupyter-widgets/controls",
            "_model_module_version": "1.5.0",
            "_model_name": "DescriptionStyleModel",
            "_view_count": null,
            "_view_module": "@jupyter-widgets/base",
            "_view_module_version": "1.2.0",
            "_view_name": "StyleView",
            "description_width": ""
          }
        },
        "79ca859973dd43c583d6a7a9195411ed": {
          "model_module": "@jupyter-widgets/controls",
          "model_name": "FloatTextModel",
          "model_module_version": "1.5.0",
          "state": {
            "_dom_classes": [],
            "_model_module": "@jupyter-widgets/controls",
            "_model_module_version": "1.5.0",
            "_model_name": "FloatTextModel",
            "_view_count": null,
            "_view_module": "@jupyter-widgets/controls",
            "_view_module_version": "1.5.0",
            "_view_name": "FloatTextView",
            "continuous_update": false,
            "description": "Net Worth:",
            "description_tooltip": null,
            "disabled": false,
            "layout": "IPY_MODEL_d6cf6cbd35024ee5bf82604aac2f3acb",
            "step": null,
            "style": "IPY_MODEL_0383ccf132634af68af0e3d89460854a",
            "value": 0
          }
        },
        "0383ccf132634af68af0e3d89460854a": {
          "model_module": "@jupyter-widgets/controls",
          "model_name": "DescriptionStyleModel",
          "model_module_version": "1.5.0",
          "state": {
            "_model_module": "@jupyter-widgets/controls",
            "_model_module_version": "1.5.0",
            "_model_name": "DescriptionStyleModel",
            "_view_count": null,
            "_view_module": "@jupyter-widgets/base",
            "_view_module_version": "1.2.0",
            "_view_name": "StyleView",
            "description_width": ""
          }
        },
        "75d92727c447442091223eba0598e2d3": {
          "model_module": "@jupyter-widgets/controls",
          "model_name": "DropdownModel",
          "model_module_version": "1.5.0",
          "state": {
            "_dom_classes": [],
            "_model_module": "@jupyter-widgets/controls",
            "_model_module_version": "1.5.0",
            "_model_name": "DropdownModel",
            "_options_labels": [
              "SUV",
              "Sedan",
              "Coupe",
              "Pickup",
              "Convertible"
            ],
            "_view_count": null,
            "_view_module": "@jupyter-widgets/controls",
            "_view_module_version": "1.5.0",
            "_view_name": "DropdownView",
            "description": "Type:",
            "description_tooltip": null,
            "disabled": false,
            "index": 0,
            "layout": "IPY_MODEL_d6cf6cbd35024ee5bf82604aac2f3acb",
            "style": "IPY_MODEL_5d40a7e475bd4ea7833e8c6a2ffc7e0f"
          }
        },
        "5d40a7e475bd4ea7833e8c6a2ffc7e0f": {
          "model_module": "@jupyter-widgets/controls",
          "model_name": "DescriptionStyleModel",
          "model_module_version": "1.5.0",
          "state": {
            "_model_module": "@jupyter-widgets/controls",
            "_model_module_version": "1.5.0",
            "_model_name": "DescriptionStyleModel",
            "_view_count": null,
            "_view_module": "@jupyter-widgets/base",
            "_view_module_version": "1.2.0",
            "_view_name": "StyleView",
            "description_width": ""
          }
        },
        "95ca9137804349edae932c93481f6e86": {
          "model_module": "@jupyter-widgets/controls",
          "model_name": "FloatTextModel",
          "model_module_version": "1.5.0",
          "state": {
            "_dom_classes": [],
            "_model_module": "@jupyter-widgets/controls",
            "_model_module_version": "1.5.0",
            "_model_name": "FloatTextModel",
            "_view_count": null,
            "_view_module": "@jupyter-widgets/controls",
            "_view_module_version": "1.5.0",
            "_view_name": "FloatTextView",
            "continuous_update": false,
            "description": "Min MPG:",
            "description_tooltip": null,
            "disabled": false,
            "layout": "IPY_MODEL_d6cf6cbd35024ee5bf82604aac2f3acb",
            "step": null,
            "style": "IPY_MODEL_8748bfc78f8946b6a10132a457f0ee48",
            "value": 0
          }
        },
        "8748bfc78f8946b6a10132a457f0ee48": {
          "model_module": "@jupyter-widgets/controls",
          "model_name": "DescriptionStyleModel",
          "model_module_version": "1.5.0",
          "state": {
            "_model_module": "@jupyter-widgets/controls",
            "_model_module_version": "1.5.0",
            "_model_name": "DescriptionStyleModel",
            "_view_count": null,
            "_view_module": "@jupyter-widgets/base",
            "_view_module_version": "1.2.0",
            "_view_name": "StyleView",
            "description_width": ""
          }
        },
        "eda71fce2d9444bdabe12795eee59fff": {
          "model_module": "@jupyter-widgets/controls",
          "model_name": "ButtonModel",
          "model_module_version": "1.5.0",
          "state": {
            "_dom_classes": [],
            "_model_module": "@jupyter-widgets/controls",
            "_model_module_version": "1.5.0",
            "_model_name": "ButtonModel",
            "_view_count": null,
            "_view_module": "@jupyter-widgets/controls",
            "_view_module_version": "1.5.0",
            "_view_name": "ButtonView",
            "button_style": "",
            "description": "Find Cars",
            "disabled": false,
            "icon": "",
            "layout": "IPY_MODEL_ade7a155ebfc4c498b4a859f67b43e6f",
            "style": "IPY_MODEL_4f9a68a7a4eb4cf292989e154bdc10de",
            "tooltip": ""
          }
        },
        "ade7a155ebfc4c498b4a859f67b43e6f": {
          "model_module": "@jupyter-widgets/base",
          "model_name": "LayoutModel",
          "model_module_version": "1.2.0",
          "state": {
            "_model_module": "@jupyter-widgets/base",
            "_model_module_version": "1.2.0",
            "_model_name": "LayoutModel",
            "_view_count": null,
            "_view_module": "@jupyter-widgets/base",
            "_view_module_version": "1.2.0",
            "_view_name": "LayoutView",
            "align_content": null,
            "align_items": null,
            "align_self": null,
            "border": null,
            "bottom": null,
            "display": null,
            "flex": null,
            "flex_flow": null,
            "grid_area": null,
            "grid_auto_columns": null,
            "grid_auto_flow": null,
            "grid_auto_rows": null,
            "grid_column": null,
            "grid_gap": null,
            "grid_row": null,
            "grid_template_areas": null,
            "grid_template_columns": null,
            "grid_template_rows": null,
            "height": null,
            "justify_content": null,
            "justify_items": null,
            "left": null,
            "margin": null,
            "max_height": null,
            "max_width": null,
            "min_height": null,
            "min_width": null,
            "object_fit": null,
            "object_position": null,
            "order": null,
            "overflow": null,
            "overflow_x": null,
            "overflow_y": null,
            "padding": null,
            "right": null,
            "top": null,
            "visibility": null,
            "width": null
          }
        },
        "4f9a68a7a4eb4cf292989e154bdc10de": {
          "model_module": "@jupyter-widgets/controls",
          "model_name": "ButtonStyleModel",
          "model_module_version": "1.5.0",
          "state": {
            "_model_module": "@jupyter-widgets/controls",
            "_model_module_version": "1.5.0",
            "_model_name": "ButtonStyleModel",
            "_view_count": null,
            "_view_module": "@jupyter-widgets/base",
            "_view_module_version": "1.2.0",
            "_view_name": "StyleView",
            "button_color": null,
            "font_weight": ""
          }
        },
        "23c8cde0a28b48df9f09f66533f097bb": {
          "model_module": "@jupyter-widgets/output",
          "model_name": "OutputModel",
          "model_module_version": "1.0.0",
          "state": {
            "_dom_classes": [],
            "_model_module": "@jupyter-widgets/output",
            "_model_module_version": "1.0.0",
            "_model_name": "OutputModel",
            "_view_count": null,
            "_view_module": "@jupyter-widgets/output",
            "_view_module_version": "1.0.0",
            "_view_name": "OutputView",
            "layout": "IPY_MODEL_3a640d97dac94e2b9e8a6c7ff830e030",
            "msg_id": "",
            "outputs": []
          }
        },
        "3a640d97dac94e2b9e8a6c7ff830e030": {
          "model_module": "@jupyter-widgets/base",
          "model_name": "LayoutModel",
          "model_module_version": "1.2.0",
          "state": {
            "_model_module": "@jupyter-widgets/base",
            "_model_module_version": "1.2.0",
            "_model_name": "LayoutModel",
            "_view_count": null,
            "_view_module": "@jupyter-widgets/base",
            "_view_module_version": "1.2.0",
            "_view_name": "LayoutView",
            "align_content": null,
            "align_items": null,
            "align_self": null,
            "border": null,
            "bottom": null,
            "display": null,
            "flex": null,
            "flex_flow": null,
            "grid_area": null,
            "grid_auto_columns": null,
            "grid_auto_flow": null,
            "grid_auto_rows": null,
            "grid_column": null,
            "grid_gap": null,
            "grid_row": null,
            "grid_template_areas": null,
            "grid_template_columns": null,
            "grid_template_rows": null,
            "height": null,
            "justify_content": null,
            "justify_items": null,
            "left": null,
            "margin": null,
            "max_height": null,
            "max_width": null,
            "min_height": null,
            "min_width": null,
            "object_fit": null,
            "object_position": null,
            "order": null,
            "overflow": null,
            "overflow_x": null,
            "overflow_y": null,
            "padding": null,
            "right": null,
            "top": null,
            "visibility": null,
            "width": null
          }
        }
      }
    }
  },
  "cells": [
    {
      "cell_type": "code",
      "execution_count": 26,
      "metadata": {
        "colab": {
          "base_uri": "https://localhost:8080/",
          "height": 240,
          "referenced_widgets": [
            "4a8767372360489a98ed5f44756d7e20",
            "d6cf6cbd35024ee5bf82604aac2f3acb",
            "7f1bb0dedfa24100a8f2310a421021f0",
            "6ccb179b4fcc4629a938c05f5b8e1ea9",
            "6f55173f739e4361992e33e53b2b8cb9",
            "79ca859973dd43c583d6a7a9195411ed",
            "0383ccf132634af68af0e3d89460854a",
            "75d92727c447442091223eba0598e2d3",
            "5d40a7e475bd4ea7833e8c6a2ffc7e0f",
            "95ca9137804349edae932c93481f6e86",
            "8748bfc78f8946b6a10132a457f0ee48",
            "eda71fce2d9444bdabe12795eee59fff",
            "ade7a155ebfc4c498b4a859f67b43e6f",
            "4f9a68a7a4eb4cf292989e154bdc10de",
            "23c8cde0a28b48df9f09f66533f097bb",
            "3a640d97dac94e2b9e8a6c7ff830e030"
          ]
        },
        "id": "1HRthlECq0AQ",
        "outputId": "8494a51c-867a-42fc-b536-8e387fd608ce"
      },
      "outputs": [
        {
          "output_type": "display_data",
          "data": {
            "text/plain": [
              "<IPython.core.display.Markdown object>"
            ],
            "text/markdown": "### Enter your info"
          },
          "metadata": {}
        },
        {
          "output_type": "display_data",
          "data": {
            "text/plain": [
              "FloatText(value=0.0, description='Age:', layout=Layout(width='500px'))"
            ],
            "application/vnd.jupyter.widget-view+json": {
              "version_major": 2,
              "version_minor": 0,
              "model_id": "4a8767372360489a98ed5f44756d7e20"
            }
          },
          "metadata": {}
        },
        {
          "output_type": "display_data",
          "data": {
            "text/plain": [
              "FloatText(value=0.0, description='Salary:', layout=Layout(width='500px'))"
            ],
            "application/vnd.jupyter.widget-view+json": {
              "version_major": 2,
              "version_minor": 0,
              "model_id": "6ccb179b4fcc4629a938c05f5b8e1ea9"
            }
          },
          "metadata": {}
        },
        {
          "output_type": "display_data",
          "data": {
            "text/plain": [
              "FloatText(value=0.0, description='Net Worth:', layout=Layout(width='500px'))"
            ],
            "application/vnd.jupyter.widget-view+json": {
              "version_major": 2,
              "version_minor": 0,
              "model_id": "79ca859973dd43c583d6a7a9195411ed"
            }
          },
          "metadata": {}
        },
        {
          "output_type": "display_data",
          "data": {
            "text/plain": [
              "Dropdown(description='Type:', layout=Layout(width='500px'), options=('SUV', 'Sedan', 'Coupe', 'Pickup', 'Conve…"
            ],
            "application/vnd.jupyter.widget-view+json": {
              "version_major": 2,
              "version_minor": 0,
              "model_id": "75d92727c447442091223eba0598e2d3"
            }
          },
          "metadata": {}
        },
        {
          "output_type": "display_data",
          "data": {
            "text/plain": [
              "FloatText(value=0.0, description='Min MPG:', layout=Layout(width='500px'))"
            ],
            "application/vnd.jupyter.widget-view+json": {
              "version_major": 2,
              "version_minor": 0,
              "model_id": "95ca9137804349edae932c93481f6e86"
            }
          },
          "metadata": {}
        },
        {
          "output_type": "display_data",
          "data": {
            "text/plain": [
              "Button(description='Find Cars', style=ButtonStyle())"
            ],
            "application/vnd.jupyter.widget-view+json": {
              "version_major": 2,
              "version_minor": 0,
              "model_id": "eda71fce2d9444bdabe12795eee59fff"
            }
          },
          "metadata": {}
        },
        {
          "output_type": "display_data",
          "data": {
            "text/plain": [
              "Output()"
            ],
            "application/vnd.jupyter.widget-view+json": {
              "version_major": 2,
              "version_minor": 0,
              "model_id": "23c8cde0a28b48df9f09f66533f097bb"
            }
          },
          "metadata": {}
        }
      ],
      "source": [
        "# Install dependencies if running in a fresh environment\n",
        "!pip install -q pandas scikit-learn matplotlib seaborn ipywidgets\n",
        "\n",
        "import pandas as pd\n",
        "from sklearn.linear_model import LinearRegression\n",
        "from google.colab import files\n",
        "import os\n",
        "import matplotlib.pyplot as plt\n",
        "import seaborn as sns\n",
        "import ipywidgets as widgets\n",
        "from IPython.display import display, Markdown\n",
        "\n",
        "# Upload required datasets\n",
        "if not os.path.exists(\"car_purchasing[1].csv\"):\n",
        "    files.upload()\n",
        "\n",
        "if not os.path.exists(\"extended_data[1].csv\"):\n",
        "    files.upload()\n",
        "\n",
        "# Load and inspect car dataset\n",
        "try:\n",
        "    raw_car_data = pd.read_csv(\"extended_data[1].csv\")\n",
        "    car_data = raw_car_data.drop_duplicates()\n",
        "except Exception as e:\n",
        "    print(\"Could not load car data:\", e)\n",
        "    car_data = pd.DataFrame()\n",
        "\n",
        "# Define static car types\n",
        "car_types = [\"SUV\", \"Sedan\", \"Coupe\", \"Pickup\", \"Convertible\"]\n",
        "\n",
        "# Train model to estimate car budget\n",
        "def build_model(csv_file):\n",
        "    df = pd.read_csv(csv_file, encoding=\"ISO-8859-1\")\n",
        "    X = df[[\"age\", \"annual Salary\", \"net worth\"]]\n",
        "    y = df[\"car purchase amount\"]\n",
        "    reg = LinearRegression()\n",
        "    reg.fit(X, y)\n",
        "    return reg\n",
        "\n",
        "# Validate necessary columns are present\n",
        "def validate_car_data(df):\n",
        "    expected = {\"msrp\", \"type\", \"miles_per_gallon\", \"model\"}\n",
        "    if not expected.issubset(df.columns):\n",
        "        missing = expected - set(df.columns)\n",
        "        raise ValueError(f\"Missing columns: {missing}\")\n",
        "    return df\n",
        "\n",
        "# Filter cars based on user profile and predictions\n",
        "def get_recommendations(model, df, age, salary, net_worth, selected_type, mpg_threshold):\n",
        "    pred_input = pd.DataFrame([[age, salary, net_worth]], columns=[\"age\", \"annual Salary\", \"net worth\"])\n",
        "    budget = model.predict(pred_input)[0]\n",
        "    lower, upper = budget - 1000, budget + 1000\n",
        "\n",
        "    matches = df[\n",
        "        (df[\"msrp\"].between(lower, upper)) &\n",
        "        (df[\"type\"].str.lower() == selected_type.lower()) &\n",
        "        (df[\"miles_per_gallon\"] >= mpg_threshold)\n",
        "    ]\n",
        "\n",
        "    print(f\"Estimated budget: ${budget:,.2f}\")\n",
        "    if matches.empty:\n",
        "        print(\"No matches found.\")\n",
        "    else:\n",
        "        display(matches[[\"model\", \"msrp\", \"type\", \"miles_per_gallon\"]])\n",
        "\n",
        "# Widgets for input\n",
        "layout = widgets.Layout(width='500px')\n",
        "\n",
        "age_input = widgets.FloatText(description=\"Age:\", layout=layout)\n",
        "salary_input = widgets.FloatText(description=\"Salary:\", layout=layout)\n",
        "net_input = widgets.FloatText(description=\"Net Worth:\", layout=layout)\n",
        "type_input = widgets.Dropdown(options=car_types, description=\"Type:\", layout=layout)\n",
        "mpg_input = widgets.FloatText(description=\"Min MPG:\", layout=layout)\n",
        "go_button = widgets.Button(description=\"Find Cars\")\n",
        "output = widgets.Output()\n",
        "\n",
        "# Display form\n",
        "display(Markdown(\"### Enter your info\"))\n",
        "display(age_input, salary_input, net_input, type_input, mpg_input, go_button, output)\n",
        "\n",
        "# Handle button click\n",
        "def handle_click(_):\n",
        "    with output:\n",
        "        output.clear_output()\n",
        "        try:\n",
        "            model = build_model(\"car_purchasing[1].csv\")\n",
        "            data = validate_car_data(car_data.copy())\n",
        "            get_recommendations(\n",
        "                model, data,\n",
        "                age_input.value,\n",
        "                salary_input.value,\n",
        "                net_input.value,\n",
        "                type_input.value,\n",
        "                mpg_input.value\n",
        "            )\n",
        "        except Exception as e:\n",
        "            print(\"Error:\", e)\n",
        "\n",
        "go_button.on_click(handle_click)\n"
      ]
    }
  ]
}